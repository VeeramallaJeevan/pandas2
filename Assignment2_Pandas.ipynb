{
 "cells": [
  {
   "cell_type": "markdown",
   "id": "8c3458a5-e655-4f3e-b5b7-917b025d9486",
   "metadata": {
    "jp-MarkdownHeadingCollapsed": true
   },
   "source": [
    "## Assignment: Pandas Hands-on Practice — Store Sales Analysis\n",
    "-📘 Dataset Overview\n",
    "\n",
    "- You are provided with a dataset containing monthly sales from 100 stores across three states: California, Texas, and Arizona.\n",
    "Each store has four months of sales data — January, February, March, and April.\n",
    "\n",
    "-📊 Columns:\n",
    "- Column\tDescription\n",
    "store_id\tUnique ID for each store\n",
    "city\tCity/State where the store is located\n",
    "Jan, Feb, Mar, Apr\tMonthly sales data (numeric values)"
   ]
  },
  {
   "cell_type": "markdown",
   "id": "e13e8621-137d-4242-8be0-12e840ed2ba8",
   "metadata": {},
   "source": [
    "## 🎯 Objective\n",
    "\n",
    "You need to perform data analysis using Pandas to:\n",
    "\n",
    "- Understand sales performance per store and per city.\n",
    "\n",
    "- Apply aggregate functions and grouping.\n",
    "\n",
    "- Generate insights from trends and comparisons."
   ]
  },
  {
   "cell_type": "markdown",
   "id": "2917f908-ec0b-45f8-8ac2-71622cfd3f20",
   "metadata": {},
   "source": [
    "## 🧩 Part 1 — Basic Exploration (10 Marks)\n",
    "\n",
    "- Load the dataset into a Pandas DataFrame.\n",
    "\n",
    "- Display the first and last 5 rows.\n",
    "\n",
    "- Check shape, data types, and non-null counts.\n",
    "\n",
    "- Print column names and summary statistics for all numeric columns.\n",
    "\n",
    "- Find the total and average sales for each month (Jan–Apr).\n",
    "\n",
    "- Calculate total yearly sales for all stores combined."
   ]
  },
  {
   "cell_type": "markdown",
   "id": "9306c287-3f77-4daa-b952-3238ffb830f8",
   "metadata": {},
   "source": [
    "## 📊 Part 2 — City-wise Analysis (15 Marks)\n",
    "\n",
    "- Find total sales for each city in each month using groupby().\n",
    "\n",
    "- Find the average monthly sales per city.\n",
    "\n",
    "- Identify:\n",
    "\n",
    "- The city with the highest average sales.\n",
    "\n",
    "- The city with the lowest total sales.\n",
    "\n",
    "- Add a new column Total_Sales = Jan + Feb + Mar + Apr.\n",
    "\n",
    "- Find the top 3 performing cities based on Total_Sales."
   ]
  },
  {
   "cell_type": "markdown",
   "id": "60527f8a-2bbf-4ad7-a36a-52873b5e325f",
   "metadata": {},
   "source": [
    "## 🏪 Part 3 — Store-level Insights (15 Marks)\n",
    "\n",
    "- Display the top 5 stores with the highest Total_Sales.\n",
    "\n",
    "- Display the bottom 5 stores with the lowest Total_Sales.\n",
    "\n",
    "- Identify:\n",
    "\n",
    "- The store with maximum sales in March.\n",
    "\n",
    "- The store with minimum sales in April.\n",
    "\n",
    "- Find how many stores in each city have average monthly sales > 15.\n",
    "\n",
    "- Filter stores from California that had sales > 20 in any month."
   ]
  },
  {
   "cell_type": "markdown",
   "id": "111b18c4-8b90-4182-adce-67ada60a84a4",
   "metadata": {},
   "source": [
    "## 🧮 Part 4 — Aggregation and Analysis (20 Marks)\n",
    "\n",
    "- Using groupby(\"city\"), compute:\n",
    "\n",
    "- Mean, Max, and Min for each month.\n",
    "\n",
    "- Find the city with the highest average March sales.\n",
    "\n",
    "- Calculate the overall average sales per city (across all months).\n",
    "\n",
    "- Identify the month with the highest overall sales.\n",
    "\n",
    "- For each city, find the month with maximum total sales.\n",
    "\n",
    "- Add a column Average_Sales (average of all months per store).\n",
    "- Sort the dataset by this column in descending order."
   ]
  },
  {
   "cell_type": "markdown",
   "id": "020aba22-9aa4-4869-92f6-34a864e51360",
   "metadata": {},
   "source": [
    "## 📈 Part 5 — Visualization Tasks (15 Marks)\n",
    "\n",
    "- Plot a bar chart showing total sales by city.\n",
    "\n",
    "- Plot a line chart showing average monthly sales across all stores.\n",
    "\n",
    "- Plot a pie chart showing the share of each city in total yearly sales.\n",
    "\n",
    "- Plot a horizontal bar chart of the top 10 stores based on total sales.\n",
    "\n",
    "- Create a boxplot to compare monthly sales distribution by city."
   ]
  },
  {
   "cell_type": "markdown",
   "id": "8a33f8df-9194-4592-9ad2-421f92e8ee57",
   "metadata": {},
   "source": [
    "## 💾 Submission Guidelines\n",
    "\n",
    "- Submit your work as a Jupyter Notebook (.ipynb) file.\n",
    "\n",
    "- Include:\n",
    "\n",
    "- Proper headings and comments.\n",
    "\n",
    "- Answers written in Markdown cells.\n",
    "\n",
    "- All visualizations properly titled and labeled."
   ]
  },
  {
   "cell_type": "code",
   "execution_count": null,
   "id": "ea4892da-c8fa-4647-beee-584bddccef07",
   "metadata": {},
   "outputs": [],
   "source": []
  }
 ],
 "metadata": {
  "kernelspec": {
   "display_name": "Python 3 (ipykernel)",
   "language": "python",
   "name": "python3"
  },
  "language_info": {
   "codemirror_mode": {
    "name": "ipython",
    "version": 3
   },
   "file_extension": ".py",
   "mimetype": "text/x-python",
   "name": "python",
   "nbconvert_exporter": "python",
   "pygments_lexer": "ipython3",
   "version": "3.12.4"
  }
 },
 "nbformat": 4,
 "nbformat_minor": 5
}
